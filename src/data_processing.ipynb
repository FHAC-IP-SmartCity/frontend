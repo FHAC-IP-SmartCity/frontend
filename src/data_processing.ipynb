{
 "cells": [
  {
   "cell_type": "markdown",
   "metadata": {},
   "source": [
    "```markdown\n",
    "## Data Retrieval and Preparation\n",
    "\n",
    "In this section, we retrieve raw data from a Flask server and convert it into a Pandas DataFrame for easier manipulation. The data is fetched from the server using the `requests` library and then transformed into a DataFrame if the data is not empty.\n",
    "```"
   ]
  },
  {
   "cell_type": "code",
   "execution_count": 3,
   "metadata": {},
   "outputs": [
    {
     "name": "stdout",
     "output_type": "stream",
     "text": [
      "Raw Data Retrieved: [{'id': 5, 'value': 'Hello'}, {'id': 5, 'value': 'Hello2'}, {'id': 5, 'value': 'Hello3'}, {'id': 5, 'value': 'Hello4'}, {'id': 5, 'value': 'Hello5'}, {'id': 5, 'value': 'Hello6'}, {'id': 5, 'value': 'Hello7'}]\n",
      "Data as DataFrame:\n",
      "   id   value\n",
      "0   5   Hello\n",
      "1   5  Hello2\n",
      "2   5  Hello3\n",
      "3   5  Hello4\n",
      "4   5  Hello5\n",
      "5   5  Hello6\n",
      "6   5  Hello7\n"
     ]
    }
   ],
   "source": [
    "import requests\n",
    "import pandas as pd\n",
    "\n",
    "# Flask server base URL\n",
    "BASE_URL = \"http://localhost:3000\"\n",
    "\n",
    "# Fetch raw data from the server\n",
    "response = requests.get(f\"{BASE_URL}/data\")\n",
    "if response.status_code == 200:\n",
    "    raw_data = response.json()\n",
    "    print(\"Raw Data Retrieved:\", raw_data)\n",
    "    \n",
    "    # Convert to a Pandas DataFrame for easier manipulation\n",
    "    if raw_data:  # Ensure data is not empty\n",
    "        data_df = pd.DataFrame(raw_data)\n",
    "        print(\"Data as DataFrame:\")\n",
    "        print(data_df)\n",
    "else:\n",
    "    print(\"Failed to retrieve data:\", response.status_code, response.text)\n"
   ]
  },
  {
   "cell_type": "code",
   "execution_count": 4,
   "metadata": {},
   "outputs": [
    {
     "name": "stdout",
     "output_type": "stream",
     "text": [
      "New Data Found: [{'id': 5, 'value': 'Hello'}, {'id': 5, 'value': 'Hello2'}, {'id': 5, 'value': 'Hello3'}]\n",
      "New Data as DataFrame:\n",
      "   id   value\n",
      "0   5   Hello\n",
      "1   5  Hello2\n",
      "2   5  Hello3\n",
      "No new data.\n",
      "No new data.\n",
      "New Data Found: [{'id': 5, 'value': 'Hello4'}]\n",
      "New Data as DataFrame:\n",
      "   id   value\n",
      "0   5  Hello4\n",
      "No new data.\n",
      "No new data.\n",
      "No new data.\n",
      "No new data.\n",
      "New Data Found: [{'id': 5, 'value': 'Hello5'}]\n",
      "New Data as DataFrame:\n",
      "   id   value\n",
      "0   5  Hello5\n",
      "New Data Found: [{'id': 5, 'value': 'Hello6'}, {'id': 5, 'value': 'Hello7'}]\n",
      "New Data as DataFrame:\n",
      "   id   value\n",
      "0   5  Hello6\n",
      "1   5  Hello7\n",
      "No new data.\n",
      "No new data.\n",
      "No new data.\n",
      "Error while fetching data: HTTPConnectionPool(host='localhost', port=3000): Max retries exceeded with url: /data (Caused by NewConnectionError('<urllib3.connection.HTTPConnection object at 0x000001A924568F10>: Failed to establish a new connection: [WinError 10061] No connection could be made because the target machine actively refused it'))\n",
      "Error while fetching data: HTTPConnectionPool(host='localhost', port=3000): Max retries exceeded with url: /data (Caused by NewConnectionError('<urllib3.connection.HTTPConnection object at 0x000001A9244EA4D0>: Failed to establish a new connection: [WinError 10061] No connection could be made because the target machine actively refused it'))\n",
      "Error while fetching data: HTTPConnectionPool(host='localhost', port=3000): Max retries exceeded with url: /data (Caused by NewConnectionError('<urllib3.connection.HTTPConnection object at 0x000001A924566450>: Failed to establish a new connection: [WinError 10061] No connection could be made because the target machine actively refused it'))\n",
      "Error while fetching data: HTTPConnectionPool(host='localhost', port=3000): Max retries exceeded with url: /data (Caused by NewConnectionError('<urllib3.connection.HTTPConnection object at 0x000001A924565C90>: Failed to establish a new connection: [WinError 10061] No connection could be made because the target machine actively refused it'))\n"
     ]
    },
    {
     "ename": "KeyboardInterrupt",
     "evalue": "",
     "output_type": "error",
     "traceback": [
      "\u001b[1;31m---------------------------------------------------------------------------\u001b[0m",
      "\u001b[1;31mKeyboardInterrupt\u001b[0m                         Traceback (most recent call last)",
      "Cell \u001b[1;32mIn[4], line 39\u001b[0m\n\u001b[0;32m     37\u001b[0m \u001b[38;5;28;01mwhile\u001b[39;00m \u001b[38;5;28;01mTrue\u001b[39;00m:\n\u001b[0;32m     38\u001b[0m     fetch_new_data()\n\u001b[1;32m---> 39\u001b[0m     time\u001b[38;5;241m.\u001b[39msleep(\u001b[38;5;241m5\u001b[39m)\n",
      "\u001b[1;31mKeyboardInterrupt\u001b[0m: "
     ]
    }
   ],
   "source": [
    "import requests\n",
    "import pandas as pd\n",
    "import time\n",
    "\n",
    "BASE_URL = \"http://localhost:3000\"\n",
    "\n",
    "# Store previously fetched data\n",
    "previous_data = []\n",
    "\n",
    "def fetch_new_data():\n",
    "    global previous_data\n",
    "    try:\n",
    "        # Fetch data from Flask server\n",
    "        response = requests.get(f\"{BASE_URL}/data\")\n",
    "        if response.status_code == 200:\n",
    "            raw_data = response.json()\n",
    "            \n",
    "            # Check for new data\n",
    "            new_data = [item for item in raw_data if item not in previous_data]\n",
    "            if new_data:\n",
    "                print(\"New Data Found:\", new_data)\n",
    "                # Append to the DataFrame or process as needed\n",
    "                df = pd.DataFrame(new_data)\n",
    "                print(\"New Data as DataFrame:\")\n",
    "                print(df)\n",
    "                \n",
    "                # Update the previously fetched data\n",
    "                previous_data = raw_data\n",
    "            else:\n",
    "                print(\"No new data.\")\n",
    "        else:\n",
    "            print(\"Failed to fetch data:\", response.status_code, response.text)\n",
    "    except Exception as e:\n",
    "        print(\"Error while fetching data:\", str(e))\n",
    "\n",
    "# Polling loop\n",
    "while True:\n",
    "    fetch_new_data()\n",
    "    time.sleep(5)  # Adjust the interval as needed (e.g., every 5 seconds)\n"
   ]
  }
 ],
 "metadata": {
  "kernelspec": {
   "display_name": "base",
   "language": "python",
   "name": "python3"
  },
  "language_info": {
   "codemirror_mode": {
    "name": "ipython",
    "version": 3
   },
   "file_extension": ".py",
   "mimetype": "text/x-python",
   "name": "python",
   "nbconvert_exporter": "python",
   "pygments_lexer": "ipython3",
   "version": "3.11.7"
  }
 },
 "nbformat": 4,
 "nbformat_minor": 2
}
