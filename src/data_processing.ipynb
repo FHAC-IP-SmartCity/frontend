{
 "cells": [
  {
   "cell_type": "markdown",
   "metadata": {},
   "source": [
    "```markdown\n",
    "## Data Retrieval and Preparation\n",
    "\n",
    "In this section, we retrieve raw data from a Flask server and convert it into a Pandas DataFrame for easier manipulation. The data is fetched from the server using the `requests` library and then transformed into a DataFrame if the data is not empty.\n",
    "```"
   ]
  },
  {
   "cell_type": "code",
   "execution_count": null,
   "metadata": {},
   "outputs": [],
   "source": [
    "import requests\n",
    "import pandas as pd\n",
    "\n",
    "# Flask server base URL\n",
    "BASE_URL = \"http://localhost:3000\"\n",
    "\n",
    "# Fetch raw data from the server\n",
    "response = requests.get(f\"{BASE_URL}/data\")\n",
    "if response.status_code == 200:\n",
    "    raw_data = response.json()\n",
    "    print(\"Raw Data Retrieved:\", raw_data)\n",
    "    \n",
    "    # Convert to a Pandas DataFrame for easier manipulation\n",
    "    if raw_data:  # Ensure data is not empty\n",
    "        data_df = pd.DataFrame(raw_data)\n",
    "else:\n",
    "    print(\"Failed to retrieve data:\", response.status_code, response.text)\n",
    "\n",
    "\n",
    "display(data_df)\n"
   ]
  },
  {
   "cell_type": "code",
   "execution_count": null,
   "metadata": {},
   "outputs": [],
   "source": [
    "import requests\n",
    "import pandas as pd\n",
    "import time\n",
    "\n",
    "# Flask server base URL\n",
    "BASE_URL = \"http://localhost:3000\"\n",
    "\n",
    "# Initialize an empty DataFrame\n",
    "data_df = pd.DataFrame(columns=[\"id\", \"value\"])\n",
    "\n",
    "# Track the last number of rows fetched\n",
    "last_row_count = 0\n",
    "\n",
    "def fetch_new_data():\n",
    "    \"\"\"Fetch only new data from the server.\"\"\"\n",
    "    global data_df, last_row_count\n",
    "    try:\n",
    "        # Fetch all data from the server\n",
    "        response = requests.get(f\"{BASE_URL}/data\")\n",
    "        if response.status_code == 200:\n",
    "            raw_data = response.json()\n",
    "            new_data_df = pd.DataFrame(raw_data)\n",
    "\n",
    "            # Identify new rows based on the last row count\n",
    "            if len(new_data_df) > last_row_count:\n",
    "                # Select only the new rows\n",
    "                new_rows = new_data_df.iloc[last_row_count:]\n",
    "                print(f\"Fetched {len(new_rows)} new rows.\")\n",
    "\n",
    "                # Append new rows to the existing DataFrame\n",
    "                data_df = pd.concat([data_df, new_rows], ignore_index=True)\n",
    "\n",
    "                # Update the last row count\n",
    "                last_row_count = len(new_data_df)\n",
    "            else:\n",
    "                print(\"No new data.\")\n",
    "        else:\n",
    "            print(f\"Failed to fetch data: {response.status_code} - {response.text}\")\n",
    "    except Exception as e:\n",
    "        print(f\"Error fetching data: {e}\")\n",
    "\n",
    "# Polling loop\n",
    "try:\n",
    "    while True:\n",
    "        fetch_new_data()  # Fetch new data from the server\n",
    "        time.sleep(10)  # Poll every 10 seconds\n",
    "except KeyboardInterrupt:\n",
    "    print(\"Polling stopped.\")\n",
    "\n",
    "    \n"
   ]
  },
  {
   "cell_type": "code",
   "execution_count": null,
   "metadata": {},
   "outputs": [],
   "source": [
    "display(data_df)\n"
   ]
  }
 ],
 "metadata": {
  "kernelspec": {
   "display_name": "base",
   "language": "python",
   "name": "python3"
  },
  "language_info": {
   "codemirror_mode": {
    "name": "ipython",
    "version": 3
   },
   "file_extension": ".py",
   "mimetype": "text/x-python",
   "name": "python",
   "nbconvert_exporter": "python",
   "pygments_lexer": "ipython3",
   "version": "3.11.7"
  }
 },
 "nbformat": 4,
 "nbformat_minor": 2
}
